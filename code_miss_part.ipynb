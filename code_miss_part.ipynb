{
 "cells": [
  {
   "cell_type": "code",
   "execution_count": null,
   "metadata": {
    "collapsed": true
   },
   "outputs": [],
   "source": [
    "from matplotlib import pyplot as plt\n",
    "!pip install pandas\n",
    "!pip install copy\n",
    "!pip install operator\n",
    "!pip install deap\n",
    "!pip install uuid\n",
    "!pip install unittest\n",
    "!pip install configparser\n",
    "!pip install scikit-learn\n",
    "import pandas as pd\n",
    "import numpy as np\n",
    "import seaborn as sns\n",
    "import numpy as np\n",
    "import statistics as state"
   ]
  },
  {
   "cell_type": "code",
   "execution_count": null,
   "outputs": [],
   "source": [
    "import pandas as pd\n",
    "count = 1\n",
    "data = pd.read_csv('all_data_1.csv')\n",
    "data"
   ],
   "metadata": {
    "collapsed": false
   }
  },
  {
   "cell_type": "code",
   "execution_count": null,
   "outputs": [],
   "source": [
    "from sklearn import preprocessing\n",
    "label_encoder = preprocessing.LabelEncoder()\n",
    "print(\"length\",len(data['smoking_status']))\n",
    "for i in range(len(data['smoking_status'])):\n",
    "    print(\"aaaa\",data['smoking_status'].iloc[i],i)\n",
    "    state=pd.isna(data['smoking_status'].iloc[i])\n",
    "    print(\"state \",state)\n",
    "    if state!=True:\n",
    "        if( data['smoking_status'].iloc[i]=='never smoked'):\n",
    "            data['smoking_status'].iloc[i]=0\n",
    "        elif( data['smoking_status'].iloc[i]=='formerly smoked'):\n",
    "            data['smoking_status'].iloc[i]=1\n",
    "        elif( data['smoking_status'].iloc[i]=='smokes'):\n",
    "            data['smoking_status'].iloc[i]=2\n",
    "\n",
    "\n",
    "\n",
    "\n"
   ],
   "metadata": {
    "collapsed": false
   }
  },
  {
   "cell_type": "code",
   "execution_count": null,
   "outputs": [],
   "source": [
    "data"
   ],
   "metadata": {
    "collapsed": false
   }
  },
  {
   "cell_type": "code",
   "execution_count": null,
   "outputs": [],
   "source": [
    "\n",
    "def remove_high_nan(df,ratio = 0.65):\n",
    "    for i in df.columns:\n",
    "        if df[i].isnull().mean() > ratio:\n",
    "            df.drop(i,axis = 1,inplace = True)\n",
    "\n",
    "print(\"*************************************\",data.isnull().sum())\n",
    "remove_high_nan(data)\n",
    "data_2 = data.copy()\n",
    "data.isnull().sum().plot(kind = 'bar',fontsize = 12,figsize = (12,4))\n",
    "plt.title('Null values we Have to handle',fontsize = 18)"
   ],
   "metadata": {
    "collapsed": false
   }
  },
  {
   "cell_type": "code",
   "execution_count": null,
   "outputs": [],
   "source": [
    "nullindexList=[]\n",
    "not_nullindexList=[]\n",
    "for i in range(43400):\n",
    "    if(pd.isna(data['smoking_status'][i])==True):\n",
    "        nullindexList.append(i)\n",
    "    else:\n",
    "        not_nullindexList.append(i)"
   ],
   "metadata": {
    "collapsed": false
   }
  },
  {
   "cell_type": "code",
   "execution_count": null,
   "outputs": [],
   "source": [
    "def add_label(data,attr,name_notnan = 'Training', name_nan = 'Predict'):\n",
    "    null_pos = data[attr][data[attr].isnull()].index\n",
    "    data['Label'] = name_notnan\n",
    "    data['Label'].iloc[null_pos] = name_nan\n",
    "\n",
    "\n",
    "def mean_median_imputation(data, kind = 'mean'):\n",
    "    if kind=='mean':\n",
    "        return data.fillna(np.mean(data.dropna()))\n",
    "    elif kind == 'median':\n",
    "        return data.fillna(np.median(data.dropna()))\n",
    "\n",
    "\n",
    "def mode_imputation(data):\n",
    "    return data.fillna(stat.mode(data))"
   ],
   "metadata": {
    "collapsed": false
   }
  },
  {
   "cell_type": "code",
   "execution_count": null,
   "outputs": [],
   "source": [
    "from sklearn import preprocessing\n",
    "S_all=data\n",
    "label_encoder = preprocessing.LabelEncoder()\n",
    "S_all['gender']= label_encoder.fit_transform(S_all['gender'])\n",
    "S_all['ever_married']= label_encoder.fit_transform(S_all['ever_married'])\n",
    "S_all['work_type']= label_encoder.fit_transform(S_all['work_type'])\n",
    "S_all['Residence_type']= label_encoder.fit_transform(S_all['Residence_type'])\n",
    "S_all['avg_glucose_level']= label_encoder.fit_transform(S_all['avg_glucose_level'])\n",
    "\n",
    "data=S_all"
   ],
   "metadata": {
    "collapsed": false
   }
  },
  {
   "cell_type": "code",
   "execution_count": null,
   "outputs": [],
   "source": [
    "data"
   ],
   "metadata": {
    "collapsed": false
   }
  },
  {
   "cell_type": "code",
   "execution_count": null,
   "outputs": [],
   "source": [
    "from sklearn.ensemble import RandomForestClassifier\n",
    "from sklearn.ensemble import RandomForestRegressor\n",
    "def Miss_forest_impute(data, attrb, dtype):\n",
    "    train_data, test_data = data[data['Label']=='Training'], data[data['Label']=='Predict']\n",
    "    Y = data[[attrb]]\n",
    "    X = data.drop(['Label',attrb],axis = 1)\n",
    "    y_train = train_data[[attrb]]\n",
    "    x_train = train_data.drop(['Label',attrb],axis = 1)\n",
    "    y_test = test_data[[attrb]]\n",
    "    x_test = test_data.drop(['Label',attrb],axis = 1)\n",
    "    if dtype == 'Continious':\n",
    "        model = RandomForestRegressor()\n",
    "        model.fit(X,Y)\n",
    "    elif dtype == 'Categorical':\n",
    "        model = RandomForestClassifier()\n",
    "        model.fit(X,Y)\n",
    "    y_pred = model.predict(x_test)\n",
    "    return y_pred, Y[data['Label']=='Predict'].index"
   ],
   "metadata": {
    "collapsed": false
   }
  },
  {
   "cell_type": "code",
   "execution_count": null,
   "outputs": [],
   "source": [
    "if 'id' in data.columns:\n",
    "    data.drop('id',inplace = True,axis = 1)\n",
    "\n",
    "print(\"datadatadatadataaaaa222222\",data)# Handling Categorical Values\n",
    "not_null_attr = data.isnull().sum()[data.isnull().sum()==0].index\n",
    "print(\"*************************************\",data.isnull().sum())# Not Null Attributes\n",
    "null_attr = data.isnull().sum()[data.isnull().sum() != 0].index              # Null Attributes\n",
    "attrbs = {}\n",
    "njobs = 12\n",
    "for i in null_attr:\n",
    "    print(\"11..................\")\n",
    "    df = pd.concat((data[not_null_attr], data[i]), axis = 1)\n",
    "    add_label(df,i)\n",
    "    if i=='smoking_status':\n",
    "        df[i] = mean_median_imputation(df[[i]],kind = 'mean')\n",
    "        for job in range(njobs):\n",
    "            value,index = Miss_forest_impute(df,i,dtype = 'Continious')\n",
    "            df[i].iloc[index] = value\n",
    "    else:\n",
    "        df[i] = mode_imputation(df[i])\n",
    "\n",
    "        for job in range(njobs):\n",
    "            value,index = Miss_forest_impute(df,i,dtype = 'Categorical')\n",
    "            df[i].iloc[index] = value\n",
    "    attrbs[i] = df[i]\n",
    "print(\"************attrbsattrbs\",attrbs)"
   ],
   "metadata": {
    "collapsed": false
   }
  },
  {
   "cell_type": "code",
   "execution_count": null,
   "outputs": [],
   "source": [
    "if count:\n",
    "    data_2.drop(null_attr,axis = 1,inplace=True)\n",
    "    count = 0\n",
    "\n",
    "data_final = pd.concat((data_2,pd.DataFrame(attrbs)),axis = 1)\n",
    "data_final\n"
   ],
   "metadata": {
    "collapsed": false
   }
  },
  {
   "cell_type": "code",
   "execution_count": null,
   "outputs": [],
   "source": [
    "\n",
    "def remove_high_nan(df,ratio = 0.65):\n",
    "    for i in df.columns:\n",
    "        if df[i].isnull().mean() > ratio:\n",
    "            df.drop(i,axis = 1,inplace = True)\n",
    "\n",
    "remove_high_nan(data_final)\n",
    "data_final.isnull().sum().plot(kind = 'bar',fontsize = 12,figsize = (12,4))\n",
    "plt.title('Null values we Have to handle',fontsize = 18)"
   ],
   "metadata": {
    "collapsed": false
   }
  },
  {
   "cell_type": "code",
   "execution_count": null,
   "outputs": [],
   "source": [
    "data_final.to_csv(\"missforested_data.csv\")"
   ],
   "metadata": {
    "collapsed": false
   }
  },
  {
   "cell_type": "code",
   "execution_count": null,
   "outputs": [],
   "source": [],
   "metadata": {
    "collapsed": false
   }
  }
 ],
 "metadata": {
  "kernelspec": {
   "display_name": "Python 3",
   "language": "python",
   "name": "python3"
  },
  "language_info": {
   "codemirror_mode": {
    "name": "ipython",
    "version": 2
   },
   "file_extension": ".py",
   "mimetype": "text/x-python",
   "name": "python",
   "nbconvert_exporter": "python",
   "pygments_lexer": "ipython2",
   "version": "2.7.6"
  }
 },
 "nbformat": 4,
 "nbformat_minor": 0
}
