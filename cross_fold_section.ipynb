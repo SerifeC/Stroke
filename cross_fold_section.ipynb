{
 "cells": [
  {
   "cell_type": "code",
   "execution_count": 22,
   "outputs": [
    {
     "name": "stdout",
     "output_type": "stream",
     "text": [
      "miss_regular_file.csv ['id', 'gender', 'age', 'hypertension', 'heart_disease', 'ever_married', 'work_type', 'Residence_type', 'avg_glucose_level', 'smoking_status', 'bmi', 'stroke']\n"
     ]
    }
   ],
   "source": [
    "# stroke column go end\n",
    "import pandas as pd\n",
    "from sklearn import preprocessing\n",
    "data = pd.read_csv('misss_final.csv')\n",
    "import csv\n",
    "\n",
    "\n",
    "syc=0\n",
    "miss_final_reg = []\n",
    "with open(\"misss_final.csv\", \"r\", newline=\"\") as csvfile:\n",
    "    csvreader = csv.reader(csvfile, delimiter=\",\")\n",
    "    for miss_final_regular  in csvreader:\n",
    "        syc=syc+1\n",
    "        miss_final_reg.append([ miss_final_regular [1], miss_final_regular [2],miss_final_regular [3], miss_final_regular [4], miss_final_regular [5],miss_final_regular [6], miss_final_regular [7], miss_final_regular [8],miss_final_regular [9], miss_final_regular [12], miss_final_regular [11], miss_final_regular [10]])\n",
    "        if syc==1:\n",
    "            field=miss_final_reg\n",
    "            print(\"miss_regular_file.csv\",field[0])\n",
    "\n",
    "\n",
    "with open('miss_regular_file.csv', 'w') as f:\n",
    "\n",
    "    # using csv.writer method from CSV package\n",
    "    write = csv.writer(f)\n",
    "    write.writerow(field[0])\n",
    "    write.writerows(miss_final_reg)\n"
   ],
   "metadata": {
    "collapsed": false
   }
  },
  {
   "cell_type": "code",
   "execution_count": 23,
   "outputs": [],
   "source": [
    "import pandas as pd\n",
    "from sklearn import preprocessing\n",
    "data = pd.read_csv('miss_regular_file.csv')"
   ],
   "metadata": {
    "collapsed": false
   }
  },
  {
   "cell_type": "code",
   "execution_count": 24,
   "outputs": [
    {
     "data": {
      "text/plain": "          id  gender   age  hypertension  heart_disease ever_married  \\\n0      30669    Male   3.0             0              0           No   \n1      30468    Male  58.0             1              0          Yes   \n2      16523  Female   8.0             0              0           No   \n3      56543  Female  70.0             0              0          Yes   \n4      46136    Male  14.0             0              0           No   \n...      ...     ...   ...           ...            ...          ...   \n43395  56196  Female  10.0             0              0           No   \n43396   5450  Female  56.0             0              0          Yes   \n43397  28375  Female  82.0             1              0          Yes   \n43398  27973    Male  40.0             0              0          Yes   \n43399  36271  Female  82.0             0              0          Yes   \n\n          work_type Residence_type  avg_glucose_level  smoking_status   bmi  \\\n0          children          Rural              95.12        0.684768  18.0   \n1           Private          Urban              87.96        0.000000  39.2   \n2           Private          Urban             110.89        0.684768  17.6   \n3           Private          Rural              69.04        1.000000  35.9   \n4      Never_worked          Rural             161.28        0.420165  19.1   \n...             ...            ...                ...             ...   ...   \n43395      children          Urban              58.64        0.000000  20.4   \n43396      Govt_job          Urban             213.61        1.000000  55.4   \n43397       Private          Urban              91.94        1.000000  28.9   \n43398       Private          Urban              99.16        0.000000  33.2   \n43399       Private          Urban              79.48        0.000000  20.6   \n\n       stroke  \n0           0  \n1           0  \n2           0  \n3           0  \n4           0  \n...       ...  \n43395       0  \n43396       0  \n43397       0  \n43398       0  \n43399       0  \n\n[43400 rows x 12 columns]",
      "text/html": "<div>\n<style scoped>\n    .dataframe tbody tr th:only-of-type {\n        vertical-align: middle;\n    }\n\n    .dataframe tbody tr th {\n        vertical-align: top;\n    }\n\n    .dataframe thead th {\n        text-align: right;\n    }\n</style>\n<table border=\"1\" class=\"dataframe\">\n  <thead>\n    <tr style=\"text-align: right;\">\n      <th></th>\n      <th>id</th>\n      <th>gender</th>\n      <th>age</th>\n      <th>hypertension</th>\n      <th>heart_disease</th>\n      <th>ever_married</th>\n      <th>work_type</th>\n      <th>Residence_type</th>\n      <th>avg_glucose_level</th>\n      <th>smoking_status</th>\n      <th>bmi</th>\n      <th>stroke</th>\n    </tr>\n  </thead>\n  <tbody>\n    <tr>\n      <th>0</th>\n      <td>30669</td>\n      <td>Male</td>\n      <td>3.0</td>\n      <td>0</td>\n      <td>0</td>\n      <td>No</td>\n      <td>children</td>\n      <td>Rural</td>\n      <td>95.12</td>\n      <td>0.684768</td>\n      <td>18.0</td>\n      <td>0</td>\n    </tr>\n    <tr>\n      <th>1</th>\n      <td>30468</td>\n      <td>Male</td>\n      <td>58.0</td>\n      <td>1</td>\n      <td>0</td>\n      <td>Yes</td>\n      <td>Private</td>\n      <td>Urban</td>\n      <td>87.96</td>\n      <td>0.000000</td>\n      <td>39.2</td>\n      <td>0</td>\n    </tr>\n    <tr>\n      <th>2</th>\n      <td>16523</td>\n      <td>Female</td>\n      <td>8.0</td>\n      <td>0</td>\n      <td>0</td>\n      <td>No</td>\n      <td>Private</td>\n      <td>Urban</td>\n      <td>110.89</td>\n      <td>0.684768</td>\n      <td>17.6</td>\n      <td>0</td>\n    </tr>\n    <tr>\n      <th>3</th>\n      <td>56543</td>\n      <td>Female</td>\n      <td>70.0</td>\n      <td>0</td>\n      <td>0</td>\n      <td>Yes</td>\n      <td>Private</td>\n      <td>Rural</td>\n      <td>69.04</td>\n      <td>1.000000</td>\n      <td>35.9</td>\n      <td>0</td>\n    </tr>\n    <tr>\n      <th>4</th>\n      <td>46136</td>\n      <td>Male</td>\n      <td>14.0</td>\n      <td>0</td>\n      <td>0</td>\n      <td>No</td>\n      <td>Never_worked</td>\n      <td>Rural</td>\n      <td>161.28</td>\n      <td>0.420165</td>\n      <td>19.1</td>\n      <td>0</td>\n    </tr>\n    <tr>\n      <th>...</th>\n      <td>...</td>\n      <td>...</td>\n      <td>...</td>\n      <td>...</td>\n      <td>...</td>\n      <td>...</td>\n      <td>...</td>\n      <td>...</td>\n      <td>...</td>\n      <td>...</td>\n      <td>...</td>\n      <td>...</td>\n    </tr>\n    <tr>\n      <th>43395</th>\n      <td>56196</td>\n      <td>Female</td>\n      <td>10.0</td>\n      <td>0</td>\n      <td>0</td>\n      <td>No</td>\n      <td>children</td>\n      <td>Urban</td>\n      <td>58.64</td>\n      <td>0.000000</td>\n      <td>20.4</td>\n      <td>0</td>\n    </tr>\n    <tr>\n      <th>43396</th>\n      <td>5450</td>\n      <td>Female</td>\n      <td>56.0</td>\n      <td>0</td>\n      <td>0</td>\n      <td>Yes</td>\n      <td>Govt_job</td>\n      <td>Urban</td>\n      <td>213.61</td>\n      <td>1.000000</td>\n      <td>55.4</td>\n      <td>0</td>\n    </tr>\n    <tr>\n      <th>43397</th>\n      <td>28375</td>\n      <td>Female</td>\n      <td>82.0</td>\n      <td>1</td>\n      <td>0</td>\n      <td>Yes</td>\n      <td>Private</td>\n      <td>Urban</td>\n      <td>91.94</td>\n      <td>1.000000</td>\n      <td>28.9</td>\n      <td>0</td>\n    </tr>\n    <tr>\n      <th>43398</th>\n      <td>27973</td>\n      <td>Male</td>\n      <td>40.0</td>\n      <td>0</td>\n      <td>0</td>\n      <td>Yes</td>\n      <td>Private</td>\n      <td>Urban</td>\n      <td>99.16</td>\n      <td>0.000000</td>\n      <td>33.2</td>\n      <td>0</td>\n    </tr>\n    <tr>\n      <th>43399</th>\n      <td>36271</td>\n      <td>Female</td>\n      <td>82.0</td>\n      <td>0</td>\n      <td>0</td>\n      <td>Yes</td>\n      <td>Private</td>\n      <td>Urban</td>\n      <td>79.48</td>\n      <td>0.000000</td>\n      <td>20.6</td>\n      <td>0</td>\n    </tr>\n  </tbody>\n</table>\n<p>43400 rows × 12 columns</p>\n</div>"
     },
     "execution_count": 24,
     "metadata": {},
     "output_type": "execute_result"
    }
   ],
   "source": [
    "S_all=data\n",
    "S_all"
   ],
   "metadata": {
    "collapsed": false
   }
  },
  {
   "cell_type": "code",
   "execution_count": 27,
   "outputs": [
    {
     "data": {
      "text/plain": "          id  gender   age  hypertension  heart_disease  ever_married  \\\n0      30669       1   3.0             0              0             0   \n1      30468       1  58.0             1              0             1   \n2      16523       0   8.0             0              0             0   \n3      56543       0  70.0             0              0             1   \n4      46136       1  14.0             0              0             0   \n...      ...     ...   ...           ...            ...           ...   \n43395  56196       0  10.0             0              0             0   \n43396   5450       0  56.0             0              0             1   \n43397  28375       0  82.0             1              0             1   \n43398  27973       1  40.0             0              0             1   \n43399  36271       0  82.0             0              0             1   \n\n       work_type  Residence_type  avg_glucose_level  smoking_status   bmi  \\\n0              4               0               3984        0.684768  18.0   \n1              2               1               3268        0.000000  39.2   \n2              2               1               5544        0.684768  17.6   \n3              2               0               1378        1.000000  35.9   \n4              1               0               8677        0.420165  19.1   \n...          ...             ...                ...             ...   ...   \n43395          4               1                354        0.000000  20.4   \n43396          0               1              10967        1.000000  55.4   \n43397          2               1               3666        1.000000  28.9   \n43398          2               1               4388        0.000000  33.2   \n43399          2               1               2420        0.000000  20.6   \n\n       stroke  \n0           0  \n1           0  \n2           0  \n3           0  \n4           0  \n...       ...  \n43395       0  \n43396       0  \n43397       0  \n43398       0  \n43399       0  \n\n[43400 rows x 12 columns]",
      "text/html": "<div>\n<style scoped>\n    .dataframe tbody tr th:only-of-type {\n        vertical-align: middle;\n    }\n\n    .dataframe tbody tr th {\n        vertical-align: top;\n    }\n\n    .dataframe thead th {\n        text-align: right;\n    }\n</style>\n<table border=\"1\" class=\"dataframe\">\n  <thead>\n    <tr style=\"text-align: right;\">\n      <th></th>\n      <th>id</th>\n      <th>gender</th>\n      <th>age</th>\n      <th>hypertension</th>\n      <th>heart_disease</th>\n      <th>ever_married</th>\n      <th>work_type</th>\n      <th>Residence_type</th>\n      <th>avg_glucose_level</th>\n      <th>smoking_status</th>\n      <th>bmi</th>\n      <th>stroke</th>\n    </tr>\n  </thead>\n  <tbody>\n    <tr>\n      <th>0</th>\n      <td>30669</td>\n      <td>1</td>\n      <td>3.0</td>\n      <td>0</td>\n      <td>0</td>\n      <td>0</td>\n      <td>4</td>\n      <td>0</td>\n      <td>3984</td>\n      <td>0.684768</td>\n      <td>18.0</td>\n      <td>0</td>\n    </tr>\n    <tr>\n      <th>1</th>\n      <td>30468</td>\n      <td>1</td>\n      <td>58.0</td>\n      <td>1</td>\n      <td>0</td>\n      <td>1</td>\n      <td>2</td>\n      <td>1</td>\n      <td>3268</td>\n      <td>0.000000</td>\n      <td>39.2</td>\n      <td>0</td>\n    </tr>\n    <tr>\n      <th>2</th>\n      <td>16523</td>\n      <td>0</td>\n      <td>8.0</td>\n      <td>0</td>\n      <td>0</td>\n      <td>0</td>\n      <td>2</td>\n      <td>1</td>\n      <td>5544</td>\n      <td>0.684768</td>\n      <td>17.6</td>\n      <td>0</td>\n    </tr>\n    <tr>\n      <th>3</th>\n      <td>56543</td>\n      <td>0</td>\n      <td>70.0</td>\n      <td>0</td>\n      <td>0</td>\n      <td>1</td>\n      <td>2</td>\n      <td>0</td>\n      <td>1378</td>\n      <td>1.000000</td>\n      <td>35.9</td>\n      <td>0</td>\n    </tr>\n    <tr>\n      <th>4</th>\n      <td>46136</td>\n      <td>1</td>\n      <td>14.0</td>\n      <td>0</td>\n      <td>0</td>\n      <td>0</td>\n      <td>1</td>\n      <td>0</td>\n      <td>8677</td>\n      <td>0.420165</td>\n      <td>19.1</td>\n      <td>0</td>\n    </tr>\n    <tr>\n      <th>...</th>\n      <td>...</td>\n      <td>...</td>\n      <td>...</td>\n      <td>...</td>\n      <td>...</td>\n      <td>...</td>\n      <td>...</td>\n      <td>...</td>\n      <td>...</td>\n      <td>...</td>\n      <td>...</td>\n      <td>...</td>\n    </tr>\n    <tr>\n      <th>43395</th>\n      <td>56196</td>\n      <td>0</td>\n      <td>10.0</td>\n      <td>0</td>\n      <td>0</td>\n      <td>0</td>\n      <td>4</td>\n      <td>1</td>\n      <td>354</td>\n      <td>0.000000</td>\n      <td>20.4</td>\n      <td>0</td>\n    </tr>\n    <tr>\n      <th>43396</th>\n      <td>5450</td>\n      <td>0</td>\n      <td>56.0</td>\n      <td>0</td>\n      <td>0</td>\n      <td>1</td>\n      <td>0</td>\n      <td>1</td>\n      <td>10967</td>\n      <td>1.000000</td>\n      <td>55.4</td>\n      <td>0</td>\n    </tr>\n    <tr>\n      <th>43397</th>\n      <td>28375</td>\n      <td>0</td>\n      <td>82.0</td>\n      <td>1</td>\n      <td>0</td>\n      <td>1</td>\n      <td>2</td>\n      <td>1</td>\n      <td>3666</td>\n      <td>1.000000</td>\n      <td>28.9</td>\n      <td>0</td>\n    </tr>\n    <tr>\n      <th>43398</th>\n      <td>27973</td>\n      <td>1</td>\n      <td>40.0</td>\n      <td>0</td>\n      <td>0</td>\n      <td>1</td>\n      <td>2</td>\n      <td>1</td>\n      <td>4388</td>\n      <td>0.000000</td>\n      <td>33.2</td>\n      <td>0</td>\n    </tr>\n    <tr>\n      <th>43399</th>\n      <td>36271</td>\n      <td>0</td>\n      <td>82.0</td>\n      <td>0</td>\n      <td>0</td>\n      <td>1</td>\n      <td>2</td>\n      <td>1</td>\n      <td>2420</td>\n      <td>0.000000</td>\n      <td>20.6</td>\n      <td>0</td>\n    </tr>\n  </tbody>\n</table>\n<p>43400 rows × 12 columns</p>\n</div>"
     },
     "execution_count": 27,
     "metadata": {},
     "output_type": "execute_result"
    }
   ],
   "source": [
    "from sklearn import preprocessing\n",
    "\n",
    "label_encoder = preprocessing.LabelEncoder()\n",
    "S_all['gender']= label_encoder.fit_transform(S_all['gender'])\n",
    "S_all['ever_married']= label_encoder.fit_transform(S_all['ever_married'])\n",
    "S_all['work_type']= label_encoder.fit_transform(S_all['work_type'])\n",
    "S_all['Residence_type']= label_encoder.fit_transform(S_all['Residence_type'])\n",
    "S_all['avg_glucose_level']= label_encoder.fit_transform(S_all['avg_glucose_level'])\n",
    "data=S_all\n",
    "data"
   ],
   "metadata": {
    "collapsed": false
   }
  },
  {
   "cell_type": "code",
   "execution_count": 37,
   "outputs": [
    {
     "name": "stdout",
     "output_type": "stream",
     "text": [
      "completed csv files train and test\n",
      "completed csv files train and test\n",
      "completed csv files train and test\n"
     ]
    }
   ],
   "source": [
    "from sklearn.model_selection import KFold\n",
    "from xgboost import XGBClassifier\n",
    "from sklearn import metrics\n",
    "from sklearn.metrics import accuracy_score\n",
    "from imblearn.metrics import geometric_mean_score\n",
    "syc=0\n",
    "df = data\n",
    "X = df.iloc[:,:-1]\n",
    "y = df.iloc[:,-1]\n",
    "#Implementing cross validation\n",
    "#lab = preprocessing.LabelEncoder()\n",
    "#y= lab.fit_transform(y)\n",
    "k = 3\n",
    "kf = KFold(n_splits=k, random_state=None)\n",
    "\n",
    "for train_index , test_index in kf.split(X):\n",
    "    syc=syc+1\n",
    "    X_train , X_test = X.iloc[train_index,:],X.iloc[test_index,:]\n",
    "    y_train , y_test = y[train_index] , y[test_index]\n",
    "    train1=X_train.join(y_train, how='right')\n",
    "    test1=X_test.join(y_test, how='right')\n",
    "    train1.to_csv(\"train{}.csv\".format(syc))\n",
    "    test1.to_csv(\"test{}.csv\".format(syc))\n",
    "\n",
    "\n",
    "    print(\"completed csv files train and test\")\n",
    "\n",
    "\n",
    "\n"
   ],
   "metadata": {
    "collapsed": false
   }
  },
  {
   "cell_type": "code",
   "execution_count": 41,
   "outputs": [],
   "source": [
    "#seperate train files stroke and unstroke\n",
    "import pandas as pd\n",
    "#TRAIN UNSTROKE SEPERATION\n",
    "for i in range(k):\n",
    "    df = pd.read_csv(\"train{}.csv\".format(i+1))\n",
    "    df =  df[df.stroke != 1]\n",
    "    df.to_csv(\"train{}_unstroke.csv\".format(i+1), index=False)"
   ],
   "metadata": {
    "collapsed": false
   }
  },
  {
   "cell_type": "code",
   "execution_count": 42,
   "outputs": [],
   "source": [
    "#seperate train files stroke and unstroke\n",
    "import pandas as pd\n",
    "#TRAIN STROKE SEPERATION\n",
    "for i in range(k):\n",
    "    df = pd.read_csv(\"train{}.csv\".format(i+1))\n",
    "    df =  df[df.stroke != 0]\n",
    "    df.to_csv(\"train{}_stroke.csv\".format(i+1), index=False)"
   ],
   "metadata": {
    "collapsed": false
   }
  },
  {
   "cell_type": "code",
   "execution_count": 47,
   "outputs": [
    {
     "name": "stdout",
     "output_type": "stream",
     "text": [
      "3\n",
      "3\n",
      "len1= 544\n",
      "109\n",
      "iiiiii 109\n",
      "start\n",
      "start\n",
      "start\n",
      "start\n",
      "start\n",
      "len2= 511\n",
      "103\n",
      "iiiiii 103\n",
      "start\n",
      "start\n",
      "start\n",
      "start\n",
      "start\n",
      "len3= 511\n",
      "103\n",
      "iiiiii 103\n",
      "start\n",
      "start\n",
      "start\n",
      "start\n",
      "start\n"
     ]
    }
   ],
   "source": [
    "#seperate %20 anticore\n",
    "import pandas as pd\n",
    "import math\n",
    "import csv\n",
    "#TRAIN STROKE SEPERATION %20\n",
    "k=3\n",
    "print(k)\n",
    "print(k)\n",
    "\n",
    "syc=0\n",
    "syc_second=0\n",
    "syc_third=0\n",
    "stroke_20=[]\n",
    "for i in range(k):\n",
    "\n",
    "\n",
    "    dft = pd.read_csv(\"train{}_stroke.csv\".format(i+1))\n",
    "    ldft=len(dft)\n",
    "    print(\"len{}=\".format(i+1),ldft)\n",
    "    new_ldft=math.ceil(0.2*ldft)\n",
    "    print(new_ldft)\n",
    "    ####################%20 create#################################################\n",
    "\n",
    "    print(\"iiiiii\",new_ldft)\n",
    "    csvfile = open(\"train{}_stroke.csv\".format(i+1), 'r').readlines()\n",
    "    for t in range(len(csvfile)):\n",
    "        if t % new_ldft == 0:\n",
    "            print(\"start\")\n",
    "            open(\"train{}_stroke_20.csv\".format(i+1), 'w+').writelines(csvfile[t:t+new_ldft])\n",
    "            open(\"train{}_stroke_80.csv\".format(i+1), 'w+').writelines(csvfile[0:t])\n",
    "\n",
    "\n",
    "\n",
    "\n",
    "\n"
   ],
   "metadata": {
    "collapsed": false
   }
  },
  {
   "cell_type": "code",
   "execution_count": 48,
   "outputs": [
    {
     "name": "stdout",
     "output_type": "stream",
     "text": [
      "3\n",
      "3\n",
      "len1= 28389\n",
      "5678\n",
      "iiiiii 5678\n",
      "start\n",
      "start\n",
      "start\n",
      "start\n",
      "start\n",
      "len2= 28422\n",
      "5685\n",
      "iiiiii 5685\n",
      "start\n",
      "start\n",
      "start\n",
      "start\n",
      "start\n",
      "len3= 28423\n",
      "5685\n",
      "iiiiii 5685\n",
      "start\n",
      "start\n",
      "start\n",
      "start\n",
      "start\n"
     ]
    }
   ],
   "source": [
    "#seperate %20 anticore\n",
    "import pandas as pd\n",
    "import math\n",
    "import csv\n",
    "#TRAIN UNSTROKE SEPERATION %20\n",
    "k=3\n",
    "print(k)\n",
    "print(k)\n",
    "\n",
    "syc=0\n",
    "syc_second=0\n",
    "syc_third=0\n",
    "stroke_20=[]\n",
    "for i in range(k):\n",
    "\n",
    "\n",
    "    dft = pd.read_csv(\"train{}_unstroke.csv\".format(i+1))\n",
    "    ldft=len(dft)\n",
    "    print(\"len{}=\".format(i+1),ldft)\n",
    "    new_ldft=math.ceil(0.2*ldft)\n",
    "    print(new_ldft)\n",
    "    ####################%20 create#################################################\n",
    "\n",
    "    print(\"iiiiii\",new_ldft)\n",
    "    csvfile = open(\"train{}_unstroke.csv\".format(i+1), 'r').readlines()\n",
    "    for t in range(len(csvfile)):\n",
    "        if t % new_ldft == 0:\n",
    "            print(\"start\")\n",
    "            open(\"train{}_unstroke_20.csv\".format(i+1), 'w+').writelines(csvfile[t:t+new_ldft])\n",
    "            open(\"train{}_unstroke_80.csv\".format(i+1), 'w+').writelines(csvfile[0:t])\n",
    "\n",
    "\n"
   ],
   "metadata": {
    "collapsed": false
   }
  },
  {
   "cell_type": "code",
   "execution_count": null,
   "outputs": [],
   "source": [
    "#AIS algorithm 6 results\n"
   ],
   "metadata": {
    "collapsed": false
   }
  },
  {
   "cell_type": "code",
   "execution_count": null,
   "outputs": [],
   "source": [
    "#Smin+Smaj create sum 3 files"
   ],
   "metadata": {
    "collapsed": false
   }
  },
  {
   "cell_type": "code",
   "execution_count": null,
   "outputs": [],
   "source": [
    "#AIS algorithm 3 result K"
   ],
   "metadata": {
    "collapsed": false
   }
  },
  {
   "cell_type": "code",
   "execution_count": null,
   "outputs": [],
   "source": [
    "#balanced 3 train datasets"
   ],
   "metadata": {
    "collapsed": false
   }
  },
  {
   "cell_type": "code",
   "execution_count": null,
   "outputs": [],
   "source": [
    "###CLASSIFICATION WITHOUT ABC  and create metricss****###"
   ],
   "metadata": {
    "collapsed": false
   }
  },
  {
   "cell_type": "code",
   "execution_count": null,
   "outputs": [],
   "source": [
    "from sklearn.model_selection import KFold\n",
    "from xgboost import XGBClassifier\n",
    "from sklearn import metrics\n",
    "from sklearn.metrics import accuracy_score\n",
    "from imblearn.metrics import geometric_mean_score\n",
    "syc=0\n",
    "df = data\n",
    "X = df.iloc[:,:-1]\n",
    "y = df.iloc[:,-1]\n",
    "#Implementing cross validation\n",
    "#lab = preprocessing.LabelEncoder()\n",
    "#y= lab.fit_transform(y)\n",
    "k = 2\n",
    "kf = KFold(n_splits=k, random_state=None)\n",
    "model =  XGBClassifier()\n",
    "acc_score = []\n",
    "spec_score=[]\n",
    "sens_score=[]\n",
    "gmean_score=[]\n",
    "print(\"kf.split(X)kf.split(X)kf.split(X)\",kf.split(X))\n",
    "for train_index , test_index in kf.split(X):\n",
    "\n",
    "    X_train , X_test = X.iloc[train_index,:],X.iloc[test_index,:]\n",
    "    y_train , y_test = y[train_index] , y[test_index]\n",
    "\n",
    "    syc=syc+1\n",
    "    print(\"sycsyc\",syc)\n",
    "    model.fit(X_train,y_train)\n",
    "    pred_values = model.predict(X_test)\n",
    "    #########ACCURACY########\n",
    "    acc = accuracy_score(pred_values , y_test)\n",
    "    acc_score.append(acc)\n",
    "    cm1=metrics.confusion_matrix(y_test, pred_values)\n",
    "    total1=(cm1[0,0]+cm1[1,1]+cm1[1,0]+cm1[0,1])\n",
    "    Accuracy = (cm1[0,0]+cm1[1,1])/total1\n",
    "    ##sensivity#####\n",
    "    sens = cm1[0,0]/(cm1[0,0]+cm1[0,1])\n",
    "    print('svm Sensitivity : ', sens )\n",
    "    sens_score.append(sens)\n",
    "    ##specifity######\n",
    "    spec = cm1[1,1]/(cm1[1,0]+cm1[1,1])\n",
    "    print('svm Specificity : ', spec)\n",
    "    spec_score.append(spec)\n",
    "    #####geometric mean sens_score######\n",
    "    geo=geometric_mean_score(pred_values , y_test)\n",
    "    print('The geometric mean is ',geo)\n",
    "    gmean_score.append(geo)\n",
    "\n",
    "avg_acc_score = sum(acc_score)/k\n",
    "avg_spec_score = sum(spec_score)/k\n",
    "avg_sens_score = sum(sens_score)/k\n",
    "avg_gmean_score = sum(gmean_score)/k\n",
    "print('accuracy of each fold - {}'.format(acc_score))\n",
    "print('Avg accuracy : {}'.format(avg_acc_score))"
   ],
   "metadata": {
    "collapsed": false
   }
  },
  {
   "cell_type": "code",
   "execution_count": null,
   "outputs": [],
   "source": [],
   "metadata": {
    "collapsed": false
   }
  }
 ],
 "metadata": {
  "kernelspec": {
   "display_name": "Python 3",
   "language": "python",
   "name": "python3"
  },
  "language_info": {
   "codemirror_mode": {
    "name": "ipython",
    "version": 2
   },
   "file_extension": ".py",
   "mimetype": "text/x-python",
   "name": "python",
   "nbconvert_exporter": "python",
   "pygments_lexer": "ipython2",
   "version": "2.7.6"
  }
 },
 "nbformat": 4,
 "nbformat_minor": 0
}
